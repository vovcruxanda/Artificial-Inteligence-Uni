{
 "cells": [
  {
   "cell_type": "code",
   "execution_count": 1,
   "id": "86bc23d9",
   "metadata": {
    "papermill": {
     "duration": 0.037506,
     "end_time": "2021-08-27T19:49:42.956936",
     "exception": false,
     "start_time": "2021-08-27T19:49:42.919430",
     "status": "completed"
    },
    "tags": []
   },
   "outputs": [],
   "source": [
    "import numpy as np\n",
    "import pandas as pd"
   ]
  },
  {
   "cell_type": "code",
   "execution_count": 2,
   "id": "c33fac57",
   "metadata": {
    "papermill": {
     "duration": 6.89769,
     "end_time": "2021-08-27T19:49:49.878006",
     "exception": false,
     "start_time": "2021-08-27T19:49:42.980316",
     "status": "completed"
    },
    "tags": []
   },
   "outputs": [],
   "source": [
    "import matplotlib.pyplot as plt\n",
    "import seaborn as sns\n",
    "import tensorflow as tf\n",
    "from tensorflow import keras\n",
    "from pathlib import Path\n",
    "from sklearn.preprocessing import LabelEncoder\n",
    "import PIL\n",
    "import cv2"
   ]
  },
  {
   "cell_type": "markdown",
   "id": "54ab2af2",
   "metadata": {
    "papermill": {
     "duration": 0.023668,
     "end_time": "2021-08-27T19:49:49.982419",
     "exception": false,
     "start_time": "2021-08-27T19:49:49.958751",
     "status": "completed"
    },
    "tags": []
   },
   "source": [
    "# Preprocesare:"
   ]
  },
  {
   "cell_type": "code",
   "execution_count": 4,
   "id": "4b3f7b1e",
   "metadata": {
    "papermill": {
     "duration": 0.030871,
     "end_time": "2021-08-27T19:49:50.036948",
     "exception": false,
     "start_time": "2021-08-27T19:49:50.006077",
     "status": "completed"
    },
    "tags": []
   },
   "outputs": [],
   "source": [
    "image_dir = Path(r'C:\\Users\\Admin\\IA\\Braille Dataset\\Braille Dataset')"
   ]
  },
  {
   "cell_type": "code",
   "execution_count": 5,
   "id": "f9fe17e9",
   "metadata": {
    "papermill": {
     "duration": 0.130035,
     "end_time": "2021-08-27T19:49:50.190501",
     "exception": false,
     "start_time": "2021-08-27T19:49:50.060466",
     "status": "completed"
    },
    "tags": []
   },
   "outputs": [],
   "source": [
    "#creez o listă de imagini pentru a vedea câte imagini am\n",
    "dir_list = list(image_dir.glob('*.jpg'))"
   ]
  },
  {
   "cell_type": "code",
   "execution_count": 6,
   "id": "4715dd22",
   "metadata": {
    "papermill": {
     "duration": 0.031972,
     "end_time": "2021-08-27T19:49:50.246006",
     "exception": false,
     "start_time": "2021-08-27T19:49:50.214034",
     "status": "completed"
    },
    "tags": []
   },
   "outputs": [
    {
     "data": {
      "text/plain": [
       "834"
      ]
     },
     "execution_count": 6,
     "metadata": {},
     "output_type": "execute_result"
    }
   ],
   "source": [
    "image_count = len(dir_list)\n",
    "image_count"
   ]
  },
  {
   "cell_type": "code",
   "execution_count": 7,
   "id": "6d8095b6",
   "metadata": {
    "papermill": {
     "duration": 0.035751,
     "end_time": "2021-08-27T19:49:50.305348",
     "exception": false,
     "start_time": "2021-08-27T19:49:50.269597",
     "status": "completed"
    },
    "tags": []
   },
   "outputs": [],
   "source": [
    "#Extragerea numelor de fișiere, deoarece denumirea conține litera necesară ca prim caracter\n",
    "name_list = []\n",
    "for i in dir_list:\n",
    "    name_list.append(os.path.basename(i)[0])"
   ]
  },
  {
   "cell_type": "code",
   "execution_count": 8,
   "id": "2122f652",
   "metadata": {
    "papermill": {
     "duration": 4.490417,
     "end_time": "2021-08-27T19:49:54.820896",
     "exception": false,
     "start_time": "2021-08-27T19:49:50.330479",
     "status": "completed"
    },
    "tags": []
   },
   "outputs": [],
   "source": [
    "#încărcarea imaginilor și adăugarea lor în listă\n",
    "images = []\n",
    "for dir in dir_list:\n",
    "    I = cv2.imread(str(dir))\n",
    "    images.append(I)"
   ]
  },
  {
   "cell_type": "code",
   "execution_count": 9,
   "id": "45f7cfe1",
   "metadata": {
    "papermill": {
     "duration": 0.034919,
     "end_time": "2021-08-27T19:49:54.880046",
     "exception": false,
     "start_time": "2021-08-27T19:49:54.845127",
     "status": "completed"
    },
    "tags": []
   },
   "outputs": [],
   "source": [
    "#convertirea listelir în numpy arrays\n",
    "images_list = np.array(images)\n",
    "name_list = np.array(name_list).T"
   ]
  },
  {
   "cell_type": "code",
   "execution_count": 10,
   "id": "260938b1",
   "metadata": {
    "papermill": {
     "duration": 0.046844,
     "end_time": "2021-08-27T19:49:54.951031",
     "exception": false,
     "start_time": "2021-08-27T19:49:54.904187",
     "status": "completed"
    },
    "tags": []
   },
   "outputs": [],
   "source": [
    "#encodarea name_list pentru a fi folosite ca etichete și normalizarea image_list prin împărțire pentru a fi între 0 și 1\n",
    "le = LabelEncoder()\n",
    "name_list = le.fit_transform(name_list)\n",
    "images_list = images_list / 255.0"
   ]
  },
  {
   "cell_type": "code",
   "execution_count": 11,
   "id": "13f077b9",
   "metadata": {
    "papermill": {
     "duration": 0.032344,
     "end_time": "2021-08-27T19:49:55.007550",
     "exception": false,
     "start_time": "2021-08-27T19:49:54.975206",
     "status": "completed"
    },
    "tags": []
   },
   "outputs": [
    {
     "data": {
      "text/plain": [
       "(834, 28, 28, 3)"
      ]
     },
     "execution_count": 11,
     "metadata": {},
     "output_type": "execute_result"
    }
   ],
   "source": [
    "images_list.shape"
   ]
  },
  {
   "cell_type": "markdown",
   "id": "1d8f6883-636e-44fa-a511-5cb328249144",
   "metadata": {},
   "source": [
    "dimensiunea (834, 28, 28, 3) indică faptul că avem 834 de imagini, fiecare având o rezoluție de 28x28 pixeli și 3 canale de culoare (RGB)"
   ]
  },
  {
   "cell_type": "code",
   "execution_count": 12,
   "id": "c7acddb3",
   "metadata": {
    "papermill": {
     "duration": 0.20229,
     "end_time": "2021-08-27T19:49:55.234268",
     "exception": false,
     "start_time": "2021-08-27T19:49:55.031978",
     "status": "completed"
    },
    "tags": []
   },
   "outputs": [
    {
     "data": {
      "text/plain": [
       "<matplotlib.image.AxesImage at 0x1f8a8b361d0>"
      ]
     },
     "execution_count": 12,
     "metadata": {},
     "output_type": "execute_result"
    },
    {
     "data": {
      "image/png": "[encoded data removed]",
      "text/plain": [
       "<Figure size 640x480 with 1 Axes>"
      ]
     },
     "metadata": {},
     "output_type": "display_data"
    }
   ],
   "source": [
    "plt.imshow(images_list[0])"
   ]
  },
  {
   "cell_type": "code",
   "execution_count": 13,
   "id": "7c8cdae7",
   "metadata": {
    "papermill": {
     "duration": 0.034092,
     "end_time": "2021-08-27T19:49:55.293734",
     "exception": false,
     "start_time": "2021-08-27T19:49:55.259642",
     "status": "completed"
    },
    "tags": []
   },
   "outputs": [
    {
     "data": {
      "text/plain": [
       "(834, 28, 28, 3)"
      ]
     },
     "execution_count": 13,
     "metadata": {},
     "output_type": "execute_result"
    }
   ],
   "source": [
    "images_list.shape"
   ]
  },
  {
   "cell_type": "code",
   "execution_count": 14,
   "id": "e8153720",
   "metadata": {
    "papermill": {
     "duration": 0.034326,
     "end_time": "2021-08-27T19:49:55.353593",
     "exception": false,
     "start_time": "2021-08-27T19:49:55.319267",
     "status": "completed"
    },
    "tags": []
   },
   "outputs": [
    {
     "data": {
      "text/plain": [
       "(834,)"
      ]
     },
     "execution_count": 14,
     "metadata": {},
     "output_type": "execute_result"
    }
   ],
   "source": [
    "name_list.shape"
   ]
  },
  {
   "cell_type": "markdown",
   "id": "2c2ec6a0",
   "metadata": {
    "papermill": {
     "duration": 0.025419,
     "end_time": "2021-08-27T19:49:55.404848",
     "exception": false,
     "start_time": "2021-08-27T19:49:55.379429",
     "status": "completed"
    },
    "tags": []
   },
   "source": [
    "# Împărțirea datelor în train și test data:"
   ]
  },
  {
   "cell_type": "code",
   "execution_count": 15,
   "id": "5f637fda",
   "metadata": {
    "papermill": {
     "duration": 0.089138,
     "end_time": "2021-08-27T19:49:55.519610",
     "exception": false,
     "start_time": "2021-08-27T19:49:55.430472",
     "status": "completed"
    },
    "tags": []
   },
   "outputs": [],
   "source": [
    "from sklearn.model_selection import train_test_split"
   ]
  },
  {
   "cell_type": "code",
   "execution_count": 16,
   "id": "ec70f5ee",
   "metadata": {
    "papermill": {
     "duration": 0.048473,
     "end_time": "2021-08-27T19:49:55.593628",
     "exception": false,
     "start_time": "2021-08-27T19:49:55.545155",
     "status": "completed"
    },
    "tags": []
   },
   "outputs": [],
   "source": [
    "X_train, X_test, y_train, y_test = train_test_split(images_list, name_list, test_size=0.2, random_state=42)"
   ]
  },
  {
   "cell_type": "markdown",
   "id": "62f97598",
   "metadata": {
    "papermill": {
     "duration": 0.026214,
     "end_time": "2021-08-27T19:49:55.645527",
     "exception": false,
     "start_time": "2021-08-27T19:49:55.619313",
     "status": "completed"
    },
    "tags": []
   },
   "source": [
    "# Crearea modelului:"
   ]
  },
  {
   "cell_type": "code",
   "execution_count": 17,
   "id": "370dcb1f",
   "metadata": {
    "papermill": {
     "duration": 0.278594,
     "end_time": "2021-08-27T19:49:55.950696",
     "exception": false,
     "start_time": "2021-08-27T19:49:55.672102",
     "status": "completed"
    },
    "tags": []
   },
   "outputs": [],
   "source": [
    "model = keras.Sequential([\n",
    "    keras.layers.Conv2D(filters=64, kernel_size=(5, 5), padding='same', activation='relu'),\n",
    "    keras.layers.Conv2D(filters=64, kernel_size=(3, 3), padding='same', activation='relu'),\n",
    "    keras.layers.MaxPooling2D(),\n",
    "    keras.layers.Conv2D(filters=64, kernel_size=(3, 3), padding='same', activation='relu'),\n",
    "    keras.layers.MaxPooling2D(),\n",
    "    keras.layers.Conv2D(filters=64, kernel_size=(3, 3), padding='same', activation='relu'),\n",
    "    keras.layers.MaxPooling2D(),\n",
    "    keras.layers.Flatten(),\n",
    "    keras.layers.Dense(units=576, activation=\"relu\"),\n",
    "    keras.layers.Dense(units=288, activation=\"relu\"),\n",
    "    keras.layers.Dense(units=26, activation=\"softmax\") #output layer\n",
    "])"
   ]
  },
  {
   "cell_type": "markdown",
   "id": "d105bb74-1d97-477a-bf2b-053a3bd73779",
   "metadata": {},
   "source": [
    "Modelul descris este o rețea neuronală convoluțională (CNN) destinată clasificării caracterelor Braille. Modelul are în total 11 straturi (layere). \n",
    "\n",
    "4 straturi convoluționale sunt responsabile pentru extragerea caracteristicilor din imagine folosind filtre convoluționale. Filtrele (sau nucleele) sunt antrenate pentru a detecta anumite caracteristici, cum ar fi marginile sau textura, în diferite regiuni ale imaginii.\n",
    "\n",
    "3 straturi de pooling se aplică după fiecare strat de convoluție pentru a reduce dimensiunea matricei de caracteristici, menținând caracteristicile importante.\n",
    "Acest lucru ajută la reducerea numărului de parametri și la creșterea eficienței modelului.\n",
    "\n",
    "Stratul Flatten este adăugat după ultima pereche de straturi de convoluție și pooling. Acest strat transformă matricea tridimensională de caracteristici într-un vector unidimensional, pregătind datele pentru straturile dense (complet conectate).\n",
    "\n",
    "Straturile Dense (3). Aceste straturi sunt complet conectate și sunt utilizate pentru învățarea relațiilor complexe dintre caracteristicile extrase. Funcția de activare \"relu\" (rectified linear unit) este folosită în aceste straturi pentru a introduce non-linearitate. Ultimul strat (stratul de ieșire) este un strat Dense cu 26 de neuroni (corespunzător numărului de clase Braille). Funcția de activare \"softmax\" este utilizată pentru a obține distribuția de probabilitate peste cele 26 de clase. Acest strat determină clasa prezisă pentru imaginea de intrare, bazată pe probabilitățile calculate."
   ]
  },
  {
   "cell_type": "code",
   "execution_count": 18,
   "id": "036c1ce1",
   "metadata": {
    "papermill": {
     "duration": 0.051415,
     "end_time": "2021-08-27T19:49:56.028189",
     "exception": false,
     "start_time": "2021-08-27T19:49:55.976774",
     "status": "completed"
    },
    "tags": []
   },
   "outputs": [],
   "source": [
    "from tensorflow.keras.optimizers import Adam\n",
    "optimizer = Adam(learning_rate=0.001)\n",
    "model.compile(optimizer=optimizer, loss=\"sparse_categorical_crossentropy\", metrics=[\"sparse_categorical_accuracy\"])"
   ]
  },
  {
   "cell_type": "markdown",
   "id": "e9fa4d47-68e0-47da-96d1-f221fc643329",
   "metadata": {},
   "source": [
    "Adam ajustează rata de învățare a fiecărui parametru individual în timpul antrenării. Adam calculează rata de învățare adaptivă pentru fiecare parametru bazată pe estimări ale primului și celui de-al doilea moment al gradientului. Acest lucru permite o convergență mai rapidă și mai stabilă a funcției de cost.\n",
    "\n",
    "\"sparse_categorical_crossentropy\" este potrivit pentru problemele de clasificare cu multiple clase. Această funcție calculează pierderea pe baza diferenței dintre distribuția de probabilitate a predicțiilor modelului și distribuția reală a claselor. Scopul este să minimizăm această diferență pentru a antrena modelul să facă predicții precise pentru fiecare clasă posibilă."
   ]
  },
  {
   "cell_type": "code",
   "execution_count": 19,
   "id": "d4d6d2a5",
   "metadata": {
    "papermill": {
     "duration": 0.094099,
     "end_time": "2021-08-27T19:49:56.148137",
     "exception": false,
     "start_time": "2021-08-27T19:49:56.054038",
     "status": "completed"
    },
    "tags": []
   },
   "outputs": [],
   "source": [
    "from keras.callbacks import EarlyStopping"
   ]
  },
  {
   "cell_type": "markdown",
   "id": "1299df5d-d498-462f-ae7b-b0601b1c8f08",
   "metadata": {},
   "source": [
    "EarlyStopping este o tehnică de oprire a antrenamentului modelului în cazul în care anumite metrici de performanță nu se îmbunătățesc pentru un număr specific de epoci consecutive (20 în cazul nostru). În monitor sunt specificate metricile care sunt monitorizate și interpretate pentru a opri antrenamentul. \"auto\" alege direcția corectă de îmbunătățire pe baza metricii monitorizate."
   ]
  },
  {
   "cell_type": "code",
   "execution_count": 20,
   "id": "bf8dc6ec",
   "metadata": {
    "papermill": {
     "duration": 195.829572,
     "end_time": "2021-08-27T19:53:12.003951",
     "exception": false,
     "start_time": "2021-08-27T19:49:56.174379",
     "status": "completed"
    },
    "tags": []
   },
   "outputs": [
    {
     "name": "stdout",
     "output_type": "stream",
     "text": [
      "Epoch 1/1000\n",
      "17/17 [==============================] - 3s 105ms/step - loss: 2.9127 - sparse_categorical_accuracy: 0.0469 - val_loss: 2.7246 - val_sparse_categorical_accuracy: 0.0597\n",
      "Epoch 2/1000\n",
      "17/17 [==============================] - 1s 84ms/step - loss: 2.7312 - sparse_categorical_accuracy: 0.0488 - val_loss: 2.6986 - val_sparse_categorical_accuracy: 0.0746\n",
      "Epoch 3/1000\n",
      "17/17 [==============================] - 1s 83ms/step - loss: 2.6254 - sparse_categorical_accuracy: 0.1051 - val_loss: 2.3193 - val_sparse_categorical_accuracy: 0.2910\n",
      "Epoch 4/1000\n",
      "17/17 [==============================] - 1s 83ms/step - loss: 1.7408 - sparse_categorical_accuracy: 0.4465 - val_loss: 1.3022 - val_sparse_categorical_accuracy: 0.5896\n",
      "Epoch 5/1000\n",
      "17/17 [==============================] - 1s 86ms/step - loss: 1.0963 - sparse_categorical_accuracy: 0.6642 - val_loss: 1.2044 - val_sparse_categorical_accuracy: 0.6194\n",
      "Epoch 6/1000\n",
      "17/17 [==============================] - 1s 86ms/step - loss: 0.7486 - sparse_categorical_accuracy: 0.7598 - val_loss: 0.8469 - val_sparse_categorical_accuracy: 0.7313\n",
      "Epoch 7/1000\n",
      "17/17 [==============================] - 1s 87ms/step - loss: 0.4737 - sparse_categorical_accuracy: 0.8555 - val_loss: 0.7651 - val_sparse_categorical_accuracy: 0.7836\n",
      "Epoch 8/1000\n",
      "17/17 [==============================] - 2s 89ms/step - loss: 0.2358 - sparse_categorical_accuracy: 0.9231 - val_loss: 0.6946 - val_sparse_categorical_accuracy: 0.7985\n",
      "Epoch 9/1000\n",
      "17/17 [==============================] - 1s 87ms/step - loss: 0.1435 - sparse_categorical_accuracy: 0.9475 - val_loss: 1.0545 - val_sparse_categorical_accuracy: 0.8209\n",
      "Epoch 10/1000\n",
      "17/17 [==============================] - 1s 87ms/step - loss: 0.2872 - sparse_categorical_accuracy: 0.9250 - val_loss: 0.7869 - val_sparse_categorical_accuracy: 0.8134\n",
      "Epoch 11/1000\n",
      "17/17 [==============================] - 2s 90ms/step - loss: 0.1138 - sparse_categorical_accuracy: 0.9644 - val_loss: 0.6749 - val_sparse_categorical_accuracy: 0.8507\n",
      "Epoch 12/1000\n",
      "17/17 [==============================] - 2s 90ms/step - loss: 0.0763 - sparse_categorical_accuracy: 0.9756 - val_loss: 0.6562 - val_sparse_categorical_accuracy: 0.8731\n",
      "Epoch 13/1000\n",
      "17/17 [==============================] - 2s 89ms/step - loss: 0.0650 - sparse_categorical_accuracy: 0.9775 - val_loss: 0.8126 - val_sparse_categorical_accuracy: 0.8134\n",
      "Epoch 14/1000\n",
      "17/17 [==============================] - 2s 92ms/step - loss: 0.1061 - sparse_categorical_accuracy: 0.9681 - val_loss: 0.6123 - val_sparse_categorical_accuracy: 0.8657\n",
      "Epoch 15/1000\n",
      "17/17 [==============================] - 2s 89ms/step - loss: 0.0853 - sparse_categorical_accuracy: 0.9737 - val_loss: 0.6825 - val_sparse_categorical_accuracy: 0.8806\n",
      "Epoch 16/1000\n",
      "17/17 [==============================] - 2s 93ms/step - loss: 0.0771 - sparse_categorical_accuracy: 0.9794 - val_loss: 0.5728 - val_sparse_categorical_accuracy: 0.8582\n",
      "Epoch 17/1000\n",
      "17/17 [==============================] - 2s 91ms/step - loss: 0.0393 - sparse_categorical_accuracy: 0.9906 - val_loss: 0.6564 - val_sparse_categorical_accuracy: 0.8731\n",
      "Epoch 18/1000\n",
      "17/17 [==============================] - 2s 88ms/step - loss: 0.0167 - sparse_categorical_accuracy: 0.9925 - val_loss: 0.9859 - val_sparse_categorical_accuracy: 0.8881\n",
      "Epoch 19/1000\n",
      "17/17 [==============================] - 1s 87ms/step - loss: 0.0273 - sparse_categorical_accuracy: 0.9869 - val_loss: 0.6108 - val_sparse_categorical_accuracy: 0.8806\n",
      "Epoch 20/1000\n",
      "17/17 [==============================] - 2s 89ms/step - loss: 0.0110 - sparse_categorical_accuracy: 0.9962 - val_loss: 0.6989 - val_sparse_categorical_accuracy: 0.8806\n",
      "Epoch 21/1000\n",
      "17/17 [==============================] - 2s 94ms/step - loss: 0.0061 - sparse_categorical_accuracy: 0.9962 - val_loss: 0.7009 - val_sparse_categorical_accuracy: 0.8731\n",
      "Epoch 22/1000\n",
      "17/17 [==============================] - 2s 90ms/step - loss: 0.0192 - sparse_categorical_accuracy: 0.9944 - val_loss: 0.7980 - val_sparse_categorical_accuracy: 0.8881\n",
      "Epoch 23/1000\n",
      "17/17 [==============================] - 2s 88ms/step - loss: 0.0189 - sparse_categorical_accuracy: 0.9981 - val_loss: 0.6689 - val_sparse_categorical_accuracy: 0.8806\n",
      "Epoch 24/1000\n",
      "17/17 [==============================] - 2s 90ms/step - loss: 0.0047 - sparse_categorical_accuracy: 0.9981 - val_loss: 0.6053 - val_sparse_categorical_accuracy: 0.8806\n",
      "Epoch 25/1000\n",
      "17/17 [==============================] - 2s 93ms/step - loss: 8.8075e-04 - sparse_categorical_accuracy: 1.0000 - val_loss: 0.6907 - val_sparse_categorical_accuracy: 0.8881\n",
      "Epoch 26/1000\n",
      "17/17 [==============================] - 1s 88ms/step - loss: 0.0024 - sparse_categorical_accuracy: 0.9981 - val_loss: 0.6419 - val_sparse_categorical_accuracy: 0.8806\n",
      "Epoch 27/1000\n",
      "17/17 [==============================] - 2s 93ms/step - loss: 0.0063 - sparse_categorical_accuracy: 0.9981 - val_loss: 0.7316 - val_sparse_categorical_accuracy: 0.8881\n",
      "Epoch 28/1000\n",
      "17/17 [==============================] - 2s 92ms/step - loss: 0.0155 - sparse_categorical_accuracy: 0.9981 - val_loss: 0.5975 - val_sparse_categorical_accuracy: 0.8881\n",
      "Epoch 29/1000\n",
      "17/17 [==============================] - 2s 91ms/step - loss: 0.0023 - sparse_categorical_accuracy: 1.0000 - val_loss: 0.5833 - val_sparse_categorical_accuracy: 0.8806\n",
      "Epoch 30/1000\n",
      "17/17 [==============================] - 2s 95ms/step - loss: 6.6895e-04 - sparse_categorical_accuracy: 1.0000 - val_loss: 0.6195 - val_sparse_categorical_accuracy: 0.8881\n",
      "Epoch 31/1000\n",
      "17/17 [==============================] - 2s 101ms/step - loss: 4.4526e-04 - sparse_categorical_accuracy: 1.0000 - val_loss: 0.6367 - val_sparse_categorical_accuracy: 0.8881\n",
      "Epoch 32/1000\n",
      "17/17 [==============================] - 2s 93ms/step - loss: 2.4037e-04 - sparse_categorical_accuracy: 1.0000 - val_loss: 0.6464 - val_sparse_categorical_accuracy: 0.8881\n",
      "Epoch 33/1000\n",
      "17/17 [==============================] - 2s 90ms/step - loss: 1.9403e-04 - sparse_categorical_accuracy: 1.0000 - val_loss: 0.6567 - val_sparse_categorical_accuracy: 0.8881\n",
      "Epoch 34/1000\n",
      "17/17 [==============================] - 2s 89ms/step - loss: 1.6253e-04 - sparse_categorical_accuracy: 1.0000 - val_loss: 0.6654 - val_sparse_categorical_accuracy: 0.8881\n",
      "Epoch 35/1000\n",
      "17/17 [==============================] - 2s 99ms/step - loss: 1.3631e-04 - sparse_categorical_accuracy: 1.0000 - val_loss: 0.6737 - val_sparse_categorical_accuracy: 0.8881\n",
      "Epoch 36/1000\n",
      "17/17 [==============================] - 2s 89ms/step - loss: 1.1807e-04 - sparse_categorical_accuracy: 1.0000 - val_loss: 0.6838 - val_sparse_categorical_accuracy: 0.8881\n"
     ]
    }
   ],
   "source": [
    "es1 = EarlyStopping(patience=20, monitor=\"val_sparse_categorical_accuracy\", mode=\"auto\")\n",
    "es2 = EarlyStopping(patience=20, monitor=\"val_loss\", mode=\"auto\")\n",
    "\n",
    "history = model.fit(x=X_train,\n",
    "                    y=y_train,\n",
    "                    epochs=1000,\n",
    "                    validation_split=0.2,\n",
    "                    callbacks=[es1, es2])"
   ]
  },
  {
   "cell_type": "code",
   "execution_count": 65,
   "id": "0f9dc8a9",
   "metadata": {
    "papermill": {
     "duration": 0.477723,
     "end_time": "2021-08-27T19:53:12.940680",
     "exception": false,
     "start_time": "2021-08-27T19:53:12.462957",
     "status": "completed"
    },
    "tags": []
   },
   "outputs": [
    {
     "name": "stdout",
     "output_type": "stream",
     "text": [
      "Model: \"sequential_4\"\n",
      "_________________________________________________________________\n",
      " Layer (type)                Output Shape              Param #   \n",
      "=================================================================\n",
      " conv2d_16 (Conv2D)          (None, 28, 28, 64)        4864      \n",
      "                                                                 \n",
      " conv2d_17 (Conv2D)          (None, 28, 28, 64)        36928     \n",
      "                                                                 \n",
      " max_pooling2d_12 (MaxPooli  (None, 14, 14, 64)        0         \n",
      " ng2D)                                                           \n",
      "                                                                 \n",
      " conv2d_18 (Conv2D)          (None, 14, 14, 64)        36928     \n",
      "                                                                 \n",
      " max_pooling2d_13 (MaxPooli  (None, 7, 7, 64)          0         \n",
      " ng2D)                                                           \n",
      "                                                                 \n",
      " conv2d_19 (Conv2D)          (None, 7, 7, 64)          36928     \n",
      "                                                                 \n",
      " max_pooling2d_14 (MaxPooli  (None, 3, 3, 64)          0         \n",
      " ng2D)                                                           \n",
      "                                                                 \n",
      " flatten_4 (Flatten)         (None, 576)               0         \n",
      "                                                                 \n",
      " dense_12 (Dense)            (None, 576)               332352    \n",
      "                                                                 \n",
      " dense_13 (Dense)            (None, 288)               166176    \n",
      "                                                                 \n",
      " dense_14 (Dense)            (None, 26)                7514      \n",
      "                                                                 \n",
      "=================================================================\n",
      "Total params: 621690 (2.37 MB)\n",
      "Trainable params: 621690 (2.37 MB)\n",
      "Non-trainable params: 0 (0.00 Byte)\n",
      "_________________________________________________________________\n"
     ]
    }
   ],
   "source": [
    "model.summary()"
   ]
  },
  {
   "cell_type": "markdown",
   "id": "cf1a9c7f",
   "metadata": {
    "papermill": {
     "duration": 0.487107,
     "end_time": "2021-08-27T19:53:13.885805",
     "exception": false,
     "start_time": "2021-08-27T19:53:13.398698",
     "status": "completed"
    },
    "tags": []
   },
   "source": [
    "# Evaluarea modelului:"
   ]
  },
  {
   "cell_type": "code",
   "execution_count": 21,
   "id": "4f3526d4",
   "metadata": {
    "papermill": {
     "duration": 0.467943,
     "end_time": "2021-08-27T19:53:14.816057",
     "exception": false,
     "start_time": "2021-08-27T19:53:14.348114",
     "status": "completed"
    },
    "tags": []
   },
   "outputs": [],
   "source": [
    "time = np.arange(1, len(history.history['loss'])+1)"
   ]
  },
  {
   "cell_type": "code",
   "execution_count": 22,
   "id": "74d30b95",
   "metadata": {
    "papermill": {
     "duration": 0.7354,
     "end_time": "2021-08-27T19:53:16.064095",
     "exception": false,
     "start_time": "2021-08-27T19:53:15.328695",
     "status": "completed"
    },
    "tags": []
   },
   "outputs": [
    {
     "data": {
      "text/plain": [
       "<matplotlib.legend.Legend at 0x1f8acbabe10>"
      ]
     },
     "execution_count": 22,
     "metadata": {},
     "output_type": "execute_result"
    },
    {
     "data": {
      "image/png": "[encoded data removed]",
      "text/plain": [
       "<Figure size 640x480 with 1 Axes>"
      ]
     },
     "metadata": {},
     "output_type": "display_data"
    }
   ],
   "source": [
    "sns.lineplot(data=history.history, x=time, y='loss')\n",
    "sns.lineplot(data=history.history, x=time, y='val_loss')\n",
    "plt.title('Loss fitting history')\n",
    "plt.legend(labels=['Loss', 'Validation loss'])"
   ]
  },
  {
   "cell_type": "code",
   "execution_count": 23,
   "id": "71dbcab4",
   "metadata": {
    "papermill": {
     "duration": 0.697495,
     "end_time": "2021-08-27T19:53:17.223900",
     "exception": false,
     "start_time": "2021-08-27T19:53:16.526405",
     "status": "completed"
    },
    "tags": []
   },
   "outputs": [
    {
     "data": {
      "text/plain": [
       "<matplotlib.legend.Legend at 0x1f8ac96e410>"
      ]
     },
     "execution_count": 23,
     "metadata": {},
     "output_type": "execute_result"
    },
    {
     "data": {
      "image/png": "[encoded data removed]",
      "text/plain": [
       "<Figure size 640x480 with 1 Axes>"
      ]
     },
     "metadata": {},
     "output_type": "display_data"
    }
   ],
   "source": [
    "sns.lineplot(data=history.history, x=time, y='val_sparse_categorical_accuracy')\n",
    "sns.lineplot(data=history.history, x=time, y='sparse_categorical_accuracy')\n",
    "plt.title('Accuracy fitting history')\n",
    "plt.legend(labels=['Accuracy', 'Valuation accuracy'])"
   ]
  },
  {
   "cell_type": "code",
   "execution_count": 24,
   "id": "4579cfed",
   "metadata": {
    "papermill": {
     "duration": 0.830958,
     "end_time": "2021-08-27T19:53:18.517518",
     "exception": false,
     "start_time": "2021-08-27T19:53:17.686560",
     "status": "completed"
    },
    "tags": []
   },
   "outputs": [
    {
     "name": "stdout",
     "output_type": "stream",
     "text": [
      "6/6 [==============================] - 0s 14ms/step - loss: 0.4460 - sparse_categorical_accuracy: 0.9162\n"
     ]
    },
    {
     "data": {
      "text/plain": [
       "[0.4459986090660095, 0.916167676448822]"
      ]
     },
     "execution_count": 24,
     "metadata": {},
     "output_type": "execute_result"
    }
   ],
   "source": [
    "model.evaluate(X_test, y_test)"
   ]
  },
  {
   "cell_type": "code",
   "execution_count": 25,
   "id": "68d2acf4-1c6c-4cf5-b477-f5ea2acef204",
   "metadata": {
    "tags": []
   },
   "outputs": [
    {
     "name": "stdout",
     "output_type": "stream",
     "text": [
      "6/6 [==============================] - 0s 12ms/step\n"
     ]
    },
    {
     "data": {
      "image/png": "[encoded data removed]",
      "text/plain": [
       "<Figure size 1000x800 with 2 Axes>"
      ]
     },
     "metadata": {},
     "output_type": "display_data"
    }
   ],
   "source": [
    "from sklearn.metrics import confusion_matrix\n",
    "import seaborn as sns\n",
    "import matplotlib.pyplot as plt\n",
    "\n",
    "# Make predictions on the test set\n",
    "y_pred_prob = model.predict(X_test)\n",
    "y_pred = np.argmax(y_pred_prob, axis=1)  # Convert probabilities to integer labels\n",
    "\n",
    "# Compute confusion matrix\n",
    "cm = confusion_matrix(y_test, y_pred)\n",
    "\n",
    "# Plot confusion matrix\n",
    "plt.figure(figsize=(10, 8))\n",
    "sns.heatmap(cm, annot=True, fmt='d', cmap='Blues', \n",
    "            xticklabels=le.classes_, yticklabels=le.classes_)\n",
    "plt.xlabel('Predicted Labels')\n",
    "plt.ylabel('True Labels')\n",
    "plt.title('Confusion Matrix')\n",
    "plt.show()"
   ]
  },
  {
   "cell_type": "code",
   "execution_count": 26,
   "id": "0ba3363d-c4e3-4fa9-ac80-52a9c766099a",
   "metadata": {
    "tags": []
   },
   "outputs": [
    {
     "name": "stdout",
     "output_type": "stream",
     "text": [
      "              precision    recall  f1-score   support\n",
      "\n",
      "           a       0.75      1.00      0.86        12\n",
      "           b       0.94      0.94      0.94        17\n",
      "           c       0.75      1.00      0.86         6\n",
      "           d       1.00      1.00      1.00        11\n",
      "           e       1.00      0.92      0.96        12\n",
      "           f       1.00      1.00      1.00        10\n",
      "           g       0.89      1.00      0.94         8\n",
      "           h       0.92      1.00      0.96        12\n",
      "           i       0.93      0.93      0.93        15\n",
      "           j       1.00      0.89      0.94         9\n",
      "           k       0.88      0.50      0.64        14\n",
      "           l       1.00      0.92      0.96        13\n",
      "           m       0.77      0.83      0.80        12\n",
      "           n       1.00      1.00      1.00        16\n",
      "\n",
      "    accuracy                           0.92       167\n",
      "   macro avg       0.92      0.92      0.91       167\n",
      "weighted avg       0.92      0.92      0.91       167\n",
      "\n"
     ]
    }
   ],
   "source": [
    "from sklearn.metrics import classification_report\n",
    "print(classification_report(y_test, y_pred, target_names=le.classes_))"
   ]
  },
  {
   "cell_type": "markdown",
   "id": "d22d7829-082f-4eb5-a305-29070dacc21b",
   "metadata": {},
   "source": [
    "1. Precision (Precizia):\n",
    "    Precizia pentru fiecare clasă reprezintă proporția de instanțe adevărate pozitive (clasificate corect) din totalul instanțelor clasificate pozitiv (inclusiv false pozitive). De exemplu, pentru clasa 'a', precizia este 0.75, ceea ce înseamnă că 75% dintre predicțiile pentru 'a' sunt corecte.\n",
    "2. Recall (Acoperirea):\n",
    "    Acoperirea pentru fiecare clasă reprezintă proporția de instanțe adevărate pozitive (clasificate corect) din totalul instanțelor adevărate pozitive (inclusiv cele care au fost clasificate greșit). De exemplu, pentru clasa 'a', acoperirea este 1.00, ceea ce înseamnă că toate exemplele reale de 'a' au fost identificate corect.\n",
    "3. F1-score:\n",
    "    F1-score reprezintă media armonică între precizie și acoperire. Este o măsură a performanței unui model pe o anumită clasă. F1-score-ul este o măsură utilă când vrem să echilibrăm precizia și acoperirea.\n",
    "4. Support:\n",
    "    Numărul de exemple din setul de testare pentru fiecare clasă.\n",
    "5. Accuracy (Acuratețe):\n",
    "    Acuratețea modelului pe întregul set de testare. În acest caz, acuratețea este 0.92, ceea ce înseamnă că aproximativ 92% dintre exemplele din setul de testare au fost clasificate corect.\n",
    "6. Macro avg (Medie macro):\n",
    "    Media aritmetică a metricilor (precizie, acoperire, F1-score) pentru toate clasele. În acest caz, media macro pentru toate clasele este aproximativ 0.92.\n",
    "7. Weighted avg (Medie ponderată):\n",
    "    Media ponderată a metricilor (precizie, acoperire, F1-score) pentru toate clasele, în funcție de suportul (numărul de exemple) pentru fiecare clasă. Este utilă atunci când clasele sunt de dimensiuni diferite. În acest caz, media ponderată pentru toate clasele este aproximativ 0.92."
   ]
  },
  {
   "cell_type": "markdown",
   "id": "29d37dd7-50b7-41f2-b500-c9d88510ce98",
   "metadata": {},
   "source": [
    "# Concluzie\n",
    "\n",
    "În cadrul acestui laborator, s-a dezvoltat o rețea neuronală convoluțională (CNN) pentru clasificarea caracterelor Braille utilizând TensorFlow și Keras. Imaginile Braille au fost prelucrate și normalizate, iar datele au fost împărțite în seturi de antrenare și testare. Modelul CNN a fost definit și antrenat, folosind mai multe straturi convoluționale și dense, cu activări ReLU și un strat de ieșire softmax pentru clasificare.\n",
    "\n",
    "Optimizatorul Adam a fost folosit pentru antrenament, iar metricile de performanță, cum ar fi loss-ul și acuratețea, au fost monitorizate pe parcursul antrenamentului folosind obiectul EarlyStopping pentru prevenirea overfitting-ului.\n",
    "\n",
    "Rezultatele obținute după antrenament și evaluare au arătat că acuratețea modelului pe setul de testare a fost de aproximativ 91.62%. Analiza performanței modelului a inclus matricea de confuzie și raportul de clasificare, evidențiind o performanță solidă și promițătoare în clasificarea caracterelor Braille.\n",
    "\n",
    "În concluzie, modelul dezvoltat a demonstrat o performanță semnificativă și rezultate promițătoare în ceea ce privește clasificarea caracterelor Braille."
   ]
  },
  {
   "cell_type": "code",
   "execution_count": null,
   "id": "1ca129ac-0685-4e1e-bf94-deed01d47f3b",
   "metadata": {},
   "outputs": [],
   "source": []
  }
 ],
 "metadata": {
  "kernelspec": {
   "display_name": "Python 3 (ipykernel)",
   "language": "python",
   "name": "python3"
  },
  "language_info": {
   "codemirror_mode": {
    "name": "ipython",
    "version": 3
   },
   "file_extension": ".py",
   "mimetype": "text/x-python",
   "name": "python",
   "nbconvert_exporter": "python",
   "pygments_lexer": "ipython3",
   "version": "3.11.4"
  },
  "papermill": {
   "default_parameters": {},
   "duration": 225.997717,
   "end_time": "2021-08-27T19:53:20.731242",
   "environment_variables": {},
   "exception": null,
   "input_path": "__notebook__.ipynb",
   "output_path": "__notebook__.ipynb",
   "parameters": {},
   "start_time": "2021-08-27T19:49:34.733525",
   "version": "2.3.3"
  }
 },
 "nbformat": 4,
 "nbformat_minor": 5
}
